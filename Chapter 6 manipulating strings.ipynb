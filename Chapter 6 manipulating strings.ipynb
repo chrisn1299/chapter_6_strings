{
 "cells": [
  {
   "cell_type": "code",
   "execution_count": 2,
   "id": "c1aee151",
   "metadata": {},
   "outputs": [
    {
     "data": {
      "text/plain": [
       "'\\nWrite a function named printTable() that takes a list of lists of strings and \\ndisplays it in a well-organized table with each column right-justified. \\n\\nAssume that all the inner lists will contain the same number of strings. \\nFor example, the value could look like this:\\n'"
      ]
     },
     "execution_count": 2,
     "metadata": {},
     "output_type": "execute_result"
    }
   ],
   "source": [
    "'''\n",
    "Write a function named printTable() that takes a list of lists of strings and \n",
    "displays it in a well-organized table with each column right-justified. \n",
    "\n",
    "Assume that all the inner lists will contain the same number of strings. \n",
    "For example, the value could look like this:\n",
    "'''\n",
    "\n",
    "table = [['apples', 'oranges', 'cherries', 'banana'],\n",
    "         ['Alice', 'Bob', 'Carol', 'David'],\n",
    "         ['dogs', 'cats', 'moose', 'goose']]"
   ]
  },
  {
   "cell_type": "code",
   "execution_count": 31,
   "id": "0aafbbb8",
   "metadata": {},
   "outputs": [
    {
     "data": {
      "text/plain": [
       "'\\n   apples Alice  dogs\\n  oranges   Bob  cats\\n cherries Carol moose\\n   banana David goose\\n'"
      ]
     },
     "execution_count": 31,
     "metadata": {},
     "output_type": "execute_result"
    },
    {
     "name": "stdout",
     "output_type": "stream",
     "text": [
      "0 haha 0\n",
      "1 haha 0\n",
      "2 haha 0\n",
      "[['   apples'], ['    Alice'], ['     dogs']]\n"
     ]
    }
   ],
   "source": [
    "# desired output: a table of items right-adjusted columns \n",
    "'''\n",
    "   apples Alice  dogs\n",
    "  oranges   Bob  cats\n",
    " cherries Carol moose\n",
    "   banana David goose\n",
    "'''\n",
    "\n",
    "# 1: find the length of each printable element\n",
    "\n",
    "maxlen = 0\n",
    "for i, v in enumerate(table):\n",
    "    for v in table[i]: \n",
    "        if len(v) > maxlen: \n",
    "            maxlen = len(v)\n",
    "        else: \n",
    "            continue\n",
    "maxlen = maxlen + 1 # this is the len of space for each item\n",
    "\n",
    "big_list = []\n",
    "small_list = []\n",
    "filler = ' '\n",
    "row_phrase = ''\n",
    "for i, v in enumerate(table):\n",
    "    small_list = []\n",
    "    for j,t in enumerate(v): \n",
    "        wordlen = len(t)\n",
    "        if wordlen < maxlen: \n",
    "            t = filler*(maxlen - wordlen)+t\n",
    "            small_list.append(t) # row_phrase works\n",
    "            print(str(i) + ' haha ' + str(j))\n",
    "        break\n",
    "    big_list.append(small_list)\n",
    "    i = 0\n",
    "\n",
    "print(big_list)\n",
    "\n",
    "\n",
    "\n",
    "\n",
    "# = longest word + 1\n",
    "\n",
    "# shorter words get remaining spaces filled with ' '\n",
    "\n",
    "# return into new list\n",
    "# print list joined by ' '\n",
    "# print loop\n",
    "\n"
   ]
  },
  {
   "cell_type": "code",
   "execution_count": null,
   "id": "ac3dcc32",
   "metadata": {},
   "outputs": [],
   "source": []
  }
 ],
 "metadata": {
  "kernelspec": {
   "display_name": "Python 3 (ipykernel)",
   "language": "python",
   "name": "python3"
  },
  "language_info": {
   "codemirror_mode": {
    "name": "ipython",
    "version": 3
   },
   "file_extension": ".py",
   "mimetype": "text/x-python",
   "name": "python",
   "nbconvert_exporter": "python",
   "pygments_lexer": "ipython3",
   "version": "3.9.12"
  }
 },
 "nbformat": 4,
 "nbformat_minor": 5
}
